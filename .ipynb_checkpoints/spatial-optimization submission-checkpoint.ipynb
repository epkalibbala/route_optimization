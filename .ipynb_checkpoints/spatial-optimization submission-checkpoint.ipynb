{
 "cells": [
  {
   "cell_type": "markdown",
   "metadata": {},
   "source": [
    "# Task: Find the best route for a vehicle to travel between the following locations:\n",
    "\n",
    "1. 115 St Andrew’s Drive, Durban North, KwaZulu-Natal, South Africa\n",
    "2. 67 Boshoff Street, Pietermaritzburg, KwaZulu-Natal, South Africa\n",
    "3. 4 Paul Avenue, Fairview, Empangeni, KwaZulu-Natal, South Africa\n",
    "4. 166 Kerk Street, Vryheid, KwaZulu-Natal, South Africa\n",
    "5. 9 Margaret Street, Ixopo, KwaZulu-Natal, South Africa\n",
    "6. 16 Poort Road, Ladysmith, KwaZulu-Natal, South Africa"
   ]
  },
  {
   "cell_type": "code",
   "execution_count": null,
   "metadata": {},
   "outputs": [],
   "source": []
  },
  {
   "cell_type": "markdown",
   "metadata": {},
   "source": [
    "## Steps to follow"
   ]
  },
  {
   "cell_type": "markdown",
   "metadata": {},
   "source": [
    "### Obtain an API key\n",
    "* If you do not already have one, please obtain an API key by following the instructions at:\n",
    "\n",
    "https://cloud.google.com/maps-platform/\n",
    "\n",
    "\n",
    "### Enable the various APIs on your console"
   ]
  },
  {
   "cell_type": "code",
   "execution_count": 1,
   "metadata": {},
   "outputs": [],
   "source": [
    "apikey = '################################' # Please enter your own"
   ]
  },
  {
   "cell_type": "markdown",
   "metadata": {},
   "source": [
    "### Geocoding\n",
    "\n",
    "Geocoding is the process of converting addresses (like \"1600 Amphitheatre Parkway, Mountain View, CA\") into geographic coordinates (like latitude 37.423021 and longitude -122.083739), which you can use to place markers on a map, or position the map.\n",
    "\n",
    "Please see: https://developers.google.com/maps/documentation/geocoding/intro for more details"
   ]
  },
  {
   "cell_type": "code",
   "execution_count": 101,
   "metadata": {},
   "outputs": [],
   "source": [
    "import pandas as pd # pandas - a powerful data analysis and manipulation library for Python\n",
    "import requests # Requests is an HTTP library, written in Python, for human beings."
   ]
  },
  {
   "cell_type": "markdown",
   "metadata": {},
   "source": [
    "At present, we have been given a short list of addresses, so we will keep things nice and simple.  If more addresses were given in a file or other format, we will have to import it accordingly."
   ]
  },
  {
   "cell_type": "code",
   "execution_count": 102,
   "metadata": {},
   "outputs": [],
   "source": [
    "address_list = [\"115 St Andrew’s Drive, Durban North, KwaZulu-Natal, South Africa\",\n",
    "                \"67 Boshoff Street, Pietermaritzburg, KwaZulu-Natal, South Africa\",\n",
    "                \"4 Paul Avenue, Fairview, Empangeni, KwaZulu-Natal, South Africa\",\n",
    "                \"166 Kerk Street, Vryheid, KwaZulu-Natal, South Africa\",\n",
    "                \"9 Margaret Street, Ixopo, KwaZulu-Natal, South Africa\",\n",
    "                \"16 Poort Road, Ladysmith, KwaZulu-Natal, South Africa\"]"
   ]
  },
  {
   "cell_type": "markdown",
   "metadata": {},
   "source": [
    "#### Geocoding API Request Format\n",
    "A Geocoding API request takes the following form:\n",
    "\n",
    "https://maps.googleapis.com/maps/api/geocode/outputFormat?parameters\n",
    "where outputFormat may be either of the following values:\n",
    "\n",
    "* json (recommended) indicates output in JavaScript Object Notation (JSON); or\n",
    "* xml indicates output in XML"
   ]
  },
  {
   "cell_type": "code",
   "execution_count": 250,
   "metadata": {},
   "outputs": [],
   "source": [
    "results = []\n",
    "locations_latitude = []\n",
    "locations_longitude = []\n",
    "formatted_address = []\n",
    "for location_string in address_list:\n",
    "    r = requests.get('https://maps.googleapis.com/maps/api/geocode/json?address=\"%s\"&key=%s'%\n",
    "                     (location_string, apikey))\n",
    "    result = r.json()['results']\n",
    "    location = result[0]['geometry']['location']\n",
    "    locations_longitude.append(location['lng'])\n",
    "    locations_latitude.append(location['lat'])\n",
    "    formatted_address.append(result[0]['formatted_address'])\n",
    "    results.append(result)\n",
    "\n",
    "# The code in this cell is based roughly on what is found in the geocoder documentation found at \n",
    "# https://geocoder.readthedocs.io/api.html"
   ]
  },
  {
   "cell_type": "code",
   "execution_count": 104,
   "metadata": {},
   "outputs": [
    {
     "data": {
      "text/html": [
       "<div>\n",
       "<style scoped>\n",
       "    .dataframe tbody tr th:only-of-type {\n",
       "        vertical-align: middle;\n",
       "    }\n",
       "\n",
       "    .dataframe tbody tr th {\n",
       "        vertical-align: top;\n",
       "    }\n",
       "\n",
       "    .dataframe thead th {\n",
       "        text-align: right;\n",
       "    }\n",
       "</style>\n",
       "<table border=\"1\" class=\"dataframe\">\n",
       "  <thead>\n",
       "    <tr style=\"text-align: right;\">\n",
       "      <th></th>\n",
       "      <th>address</th>\n",
       "      <th>formatted_address</th>\n",
       "      <th>latitude</th>\n",
       "      <th>longitude</th>\n",
       "    </tr>\n",
       "  </thead>\n",
       "  <tbody>\n",
       "    <tr>\n",
       "      <th>0</th>\n",
       "      <td>115 St Andrew’s Drive, Durban North, KwaZulu-N...</td>\n",
       "      <td>115 St Andrews Dr, Durban North, 4051, South A...</td>\n",
       "      <td>-29.778758</td>\n",
       "      <td>31.043515</td>\n",
       "    </tr>\n",
       "    <tr>\n",
       "      <th>1</th>\n",
       "      <td>67 Boshoff Street, Pietermaritzburg, KwaZulu-N...</td>\n",
       "      <td>67 Boshoff St, Pietermaritzburg, 3201, South A...</td>\n",
       "      <td>-29.595413</td>\n",
       "      <td>30.379922</td>\n",
       "    </tr>\n",
       "    <tr>\n",
       "      <th>2</th>\n",
       "      <td>4 Paul Avenue, Fairview, Empangeni, KwaZulu-Na...</td>\n",
       "      <td>4 Paul Ave, Fairview, Empangeni, 3880, South A...</td>\n",
       "      <td>-28.757862</td>\n",
       "      <td>31.902001</td>\n",
       "    </tr>\n",
       "    <tr>\n",
       "      <th>3</th>\n",
       "      <td>166 Kerk Street, Vryheid, KwaZulu-Natal, South...</td>\n",
       "      <td>166 Kerk St, Vryheid, 3100, South Africa</td>\n",
       "      <td>-27.769209</td>\n",
       "      <td>30.790689</td>\n",
       "    </tr>\n",
       "    <tr>\n",
       "      <th>4</th>\n",
       "      <td>9 Margaret Street, Ixopo, KwaZulu-Natal, South...</td>\n",
       "      <td>9 Margaret St, Ixopo, 3276, South Africa</td>\n",
       "      <td>-30.154131</td>\n",
       "      <td>30.058675</td>\n",
       "    </tr>\n",
       "    <tr>\n",
       "      <th>5</th>\n",
       "      <td>16 Poort Road, Ladysmith, KwaZulu-Natal, South...</td>\n",
       "      <td>16 Poort road, Ladysmith, 3370, South Africa</td>\n",
       "      <td>-28.558800</td>\n",
       "      <td>29.775230</td>\n",
       "    </tr>\n",
       "  </tbody>\n",
       "</table>\n",
       "</div>"
      ],
      "text/plain": [
       "                                             address  \\\n",
       "0  115 St Andrew’s Drive, Durban North, KwaZulu-N...   \n",
       "1  67 Boshoff Street, Pietermaritzburg, KwaZulu-N...   \n",
       "2  4 Paul Avenue, Fairview, Empangeni, KwaZulu-Na...   \n",
       "3  166 Kerk Street, Vryheid, KwaZulu-Natal, South...   \n",
       "4  9 Margaret Street, Ixopo, KwaZulu-Natal, South...   \n",
       "5  16 Poort Road, Ladysmith, KwaZulu-Natal, South...   \n",
       "\n",
       "                                   formatted_address   latitude  longitude  \n",
       "0  115 St Andrews Dr, Durban North, 4051, South A... -29.778758  31.043515  \n",
       "1  67 Boshoff St, Pietermaritzburg, 3201, South A... -29.595413  30.379922  \n",
       "2  4 Paul Ave, Fairview, Empangeni, 3880, South A... -28.757862  31.902001  \n",
       "3           166 Kerk St, Vryheid, 3100, South Africa -27.769209  30.790689  \n",
       "4           9 Margaret St, Ixopo, 3276, South Africa -30.154131  30.058675  \n",
       "5       16 Poort road, Ladysmith, 3370, South Africa -28.558800  29.775230  "
      ]
     },
     "execution_count": 104,
     "metadata": {},
     "output_type": "execute_result"
    }
   ],
   "source": [
    "df = pd.DataFrame({'address':address_list,'latitude':locations_latitude,'longitude':locations_longitude,\n",
    "                  'formatted_address':formatted_address})\n",
    "df"
   ]
  },
  {
   "cell_type": "markdown",
   "metadata": {},
   "source": [
    "---"
   ]
  },
  {
   "cell_type": "markdown",
   "metadata": {},
   "source": [
    "## Directions\n",
    "\n",
    "https://developers.google.com/maps/documentation/directions/start\n",
    "\n",
    "The Directions API is a service that calculates directions between locations. You can search for directions for several modes of transportation, including transit, driving, walking, or cycling."
   ]
  },
  {
   "cell_type": "code",
   "execution_count": 132,
   "metadata": {},
   "outputs": [
    {
     "data": {
      "application/vnd.jupyter.widget-view+json": {
       "model_id": "45f118b716c64f7c9cb7999cba8f7684",
       "version_major": 2,
       "version_minor": 0
      },
      "text/plain": [
       "Figure(layout=FigureLayout(height='420px'))"
      ]
     },
     "metadata": {},
     "output_type": "display_data"
    }
   ],
   "source": [
    "origin=(-28.5588,29.77523)\n",
    "destination = (-29.595413,30.3799223)\n",
    "waypoints = [(-29.778758,31.043515),(-28.757862,31.902001),(-27.769209,30.79068899999999),(-30.154131,30.058675)]\n",
    "\n",
    "import gmaps\n",
    "from datetime import datetime\n",
    "now = datetime.now()\n",
    "\n",
    "#configure api\n",
    "gmaps.configure(api_key=apikey)\n",
    "\n",
    "#Create the map\n",
    "fig = gmaps.figure()\n",
    "#create the layer\n",
    "layer = gmaps.directions.Directions(origin, destination,waypoints = waypoints,optimize_waypoints=True,\n",
    "                                    mode='car',api_key=apikey,departure_time = now)\n",
    "#Add the layer\n",
    "fig.add_layer(layer)\n",
    "fig"
   ]
  },
  {
   "cell_type": "code",
   "execution_count": 134,
   "metadata": {},
   "outputs": [],
   "source": [
    "origin_dir='-28.5588,29.77523'\n",
    "destination_dir = '-29.595413,30.3799223'\n",
    "waypoints_dir = ['-29.778758,31.043515|-28.757862,31.902001|-27.769209,30.79068899999999|-30.154131,30.058675']\n"
   ]
  },
  {
   "cell_type": "code",
   "execution_count": 135,
   "metadata": {},
   "outputs": [],
   "source": [
    "from datetime import datetime\n",
    "now = datetime.now()\n",
    "import googlemaps\n",
    "#### Setting u the API key to connect to Google maps API\n",
    "\n",
    "#Perform request to use the Google Maps API web service\n",
    "gmaps = googlemaps.Client(key=apikey)\n",
    "\n",
    "for i in waypoints_dir:\n",
    "    directions = gmaps.directions(origin = origin_dir,waypoints = i,destination = destination_dir,\n",
    "                                  mode='driving',optimize_waypoints=True,departure_time = now)"
   ]
  },
  {
   "cell_type": "code",
   "execution_count": 183,
   "metadata": {},
   "outputs": [
    {
     "name": "stdout",
     "output_type": "stream",
     "text": [
      "143 km\n",
      "1 hour 45 mins\n",
      "16 Poort road, Ladysmith, 3370, South Africa\n",
      "126 President St, Vryheid, 3100, South Africa\n",
      "200 km\n",
      "2 hours 23 mins\n",
      "126 President St, Vryheid, 3100, South Africa\n",
      "4 Paul Ave, Fairview, Empangeni, 3880, South Africa\n",
      "153 km\n",
      "1 hour 35 mins\n",
      "4 Paul Ave, Fairview, Empangeni, 3880, South Africa\n",
      "102 St Andrews Dr, Durban North, 4051, South Africa\n",
      "148 km\n",
      "1 hour 54 mins\n",
      "102 St Andrews Dr, Durban North, 4051, South Africa\n",
      "9 Margaret St, Ixopo, 3276, South Africa\n",
      "86.9 km\n",
      "1 hour 16 mins\n",
      "9 Margaret St, Ixopo, 3276, South Africa\n",
      "75 Boshoff St, Pietermaritzburg, 3201, South Africa\n"
     ]
    }
   ],
   "source": [
    "for i in range(0, 5):\n",
    "    print(directions[0]['legs'][i]['distance']['text'])\n",
    "    print(directions[0]['legs'][i]['duration']['text'])\n",
    "    print(directions[0]['legs'][i]['start_address'])\n",
    "    print(directions[0]['legs'][i]['end_address'])"
   ]
  },
  {
   "cell_type": "code",
   "execution_count": 186,
   "metadata": {},
   "outputs": [],
   "source": [
    "start_address = []\n",
    "end_address = []\n",
    "distance = []\n",
    "journey_time = []\n",
    "\n",
    "for i in range(0, (len(df)-1)):\n",
    "    distance.append(directions[0]['legs'][i]['distance']['text'])\n",
    "    journey_time.append(directions[0]['legs'][i]['duration']['text'])\n",
    "    start_address.append(directions[0]['legs'][i]['start_address'])\n",
    "    end_address.append(directions[0]['legs'][i]['end_address'])"
   ]
  },
  {
   "cell_type": "code",
   "execution_count": 196,
   "metadata": {},
   "outputs": [],
   "source": [
    "df_distance = pd.DataFrame({'start_address':start_address,'end_address':end_address,\n",
    "                           'distance':distance,'journey_time':journey_time},\n",
    "                           columns = ['start_address','end_address','distance','journey_time'])"
   ]
  },
  {
   "cell_type": "code",
   "execution_count": 197,
   "metadata": {},
   "outputs": [
    {
     "data": {
      "text/html": [
       "<div>\n",
       "<style scoped>\n",
       "    .dataframe tbody tr th:only-of-type {\n",
       "        vertical-align: middle;\n",
       "    }\n",
       "\n",
       "    .dataframe tbody tr th {\n",
       "        vertical-align: top;\n",
       "    }\n",
       "\n",
       "    .dataframe thead th {\n",
       "        text-align: right;\n",
       "    }\n",
       "</style>\n",
       "<table border=\"1\" class=\"dataframe\">\n",
       "  <thead>\n",
       "    <tr style=\"text-align: right;\">\n",
       "      <th></th>\n",
       "      <th>start_address</th>\n",
       "      <th>end_address</th>\n",
       "      <th>distance</th>\n",
       "      <th>journey_time</th>\n",
       "    </tr>\n",
       "  </thead>\n",
       "  <tbody>\n",
       "    <tr>\n",
       "      <th>0</th>\n",
       "      <td>16 Poort road, Ladysmith, 3370, South Africa</td>\n",
       "      <td>126 President St, Vryheid, 3100, South Africa</td>\n",
       "      <td>143 km</td>\n",
       "      <td>1 hour 45 mins</td>\n",
       "    </tr>\n",
       "    <tr>\n",
       "      <th>1</th>\n",
       "      <td>126 President St, Vryheid, 3100, South Africa</td>\n",
       "      <td>4 Paul Ave, Fairview, Empangeni, 3880, South A...</td>\n",
       "      <td>200 km</td>\n",
       "      <td>2 hours 23 mins</td>\n",
       "    </tr>\n",
       "    <tr>\n",
       "      <th>2</th>\n",
       "      <td>4 Paul Ave, Fairview, Empangeni, 3880, South A...</td>\n",
       "      <td>102 St Andrews Dr, Durban North, 4051, South A...</td>\n",
       "      <td>153 km</td>\n",
       "      <td>1 hour 35 mins</td>\n",
       "    </tr>\n",
       "    <tr>\n",
       "      <th>3</th>\n",
       "      <td>102 St Andrews Dr, Durban North, 4051, South A...</td>\n",
       "      <td>9 Margaret St, Ixopo, 3276, South Africa</td>\n",
       "      <td>148 km</td>\n",
       "      <td>1 hour 54 mins</td>\n",
       "    </tr>\n",
       "    <tr>\n",
       "      <th>4</th>\n",
       "      <td>9 Margaret St, Ixopo, 3276, South Africa</td>\n",
       "      <td>75 Boshoff St, Pietermaritzburg, 3201, South A...</td>\n",
       "      <td>86.9 km</td>\n",
       "      <td>1 hour 16 mins</td>\n",
       "    </tr>\n",
       "  </tbody>\n",
       "</table>\n",
       "</div>"
      ],
      "text/plain": [
       "                                       start_address  \\\n",
       "0       16 Poort road, Ladysmith, 3370, South Africa   \n",
       "1      126 President St, Vryheid, 3100, South Africa   \n",
       "2  4 Paul Ave, Fairview, Empangeni, 3880, South A...   \n",
       "3  102 St Andrews Dr, Durban North, 4051, South A...   \n",
       "4           9 Margaret St, Ixopo, 3276, South Africa   \n",
       "\n",
       "                                         end_address distance     journey_time  \n",
       "0      126 President St, Vryheid, 3100, South Africa   143 km   1 hour 45 mins  \n",
       "1  4 Paul Ave, Fairview, Empangeni, 3880, South A...   200 km  2 hours 23 mins  \n",
       "2  102 St Andrews Dr, Durban North, 4051, South A...   153 km   1 hour 35 mins  \n",
       "3           9 Margaret St, Ixopo, 3276, South Africa   148 km   1 hour 54 mins  \n",
       "4  75 Boshoff St, Pietermaritzburg, 3201, South A...  86.9 km   1 hour 16 mins  "
      ]
     },
     "execution_count": 197,
     "metadata": {},
     "output_type": "execute_result"
    }
   ],
   "source": [
    "df_distance"
   ]
  },
  {
   "cell_type": "markdown",
   "metadata": {},
   "source": [
    "### Total distance travelled"
   ]
  },
  {
   "cell_type": "code",
   "execution_count": 241,
   "metadata": {},
   "outputs": [],
   "source": [
    "total_distance = 0\n",
    "for i in range(0, len(df)-1):\n",
    "    total_distance += float(df_distance['distance'][i][:-3])"
   ]
  },
  {
   "cell_type": "code",
   "execution_count": 242,
   "metadata": {},
   "outputs": [
    {
     "name": "stdout",
     "output_type": "stream",
     "text": [
      "Total distance travelled = 730.9 km\n"
     ]
    }
   ],
   "source": [
    "print('Total distance travelled = {} km'.format(total_distance))"
   ]
  },
  {
   "cell_type": "markdown",
   "metadata": {},
   "source": [
    "### Find journey time"
   ]
  },
  {
   "cell_type": "code",
   "execution_count": 243,
   "metadata": {},
   "outputs": [],
   "source": [
    "import numpy as np"
   ]
  },
  {
   "cell_type": "code",
   "execution_count": 244,
   "metadata": {},
   "outputs": [],
   "source": [
    "total_journey_time_hrs = 0\n",
    "total_journey_time_mins = 0\n",
    "for i in range(0, len(df)-1):\n",
    "    total_journey_time_hrs += np.int(df_distance['journey_time'][i][0])\n",
    "    total_journey_time_mins += np.int(df_distance['journey_time'][i][-7:-5])"
   ]
  },
  {
   "cell_type": "code",
   "execution_count": 245,
   "metadata": {},
   "outputs": [],
   "source": [
    "total_journey_time_hrs = total_journey_time_hrs + total_journey_time_mins//60"
   ]
  },
  {
   "cell_type": "code",
   "execution_count": 246,
   "metadata": {},
   "outputs": [
    {
     "data": {
      "text/plain": [
       "8"
      ]
     },
     "execution_count": 246,
     "metadata": {},
     "output_type": "execute_result"
    }
   ],
   "source": [
    "total_journey_time_hrs"
   ]
  },
  {
   "cell_type": "code",
   "execution_count": 247,
   "metadata": {},
   "outputs": [],
   "source": [
    "total_journey_time_mins = total_journey_time_mins%60"
   ]
  },
  {
   "cell_type": "code",
   "execution_count": 248,
   "metadata": {},
   "outputs": [
    {
     "data": {
      "text/plain": [
       "53"
      ]
     },
     "execution_count": 248,
     "metadata": {},
     "output_type": "execute_result"
    }
   ],
   "source": [
    "total_journey_time_mins"
   ]
  },
  {
   "cell_type": "code",
   "execution_count": 249,
   "metadata": {},
   "outputs": [
    {
     "name": "stdout",
     "output_type": "stream",
     "text": [
      "The total journey time is: 8 hours and 53 minutes\n"
     ]
    }
   ],
   "source": [
    "print('The total journey time is: {} hours and {} minutes'.format(total_journey_time_hrs,\n",
    "                                                                 total_journey_time_mins))"
   ]
  },
  {
   "cell_type": "markdown",
   "metadata": {},
   "source": [
    "## Articles consulted for hints"
   ]
  },
  {
   "cell_type": "markdown",
   "metadata": {},
   "source": [
    "https://www.geeksforgeeks.org/python-plotting-google-map-using-gmplot-package/"
   ]
  },
  {
   "cell_type": "markdown",
   "metadata": {},
   "source": [
    "https://medium.com/how-to-use-google-distance-matrix-api-in-python/how-to-use-google-distance-matrix-api-in-python-ef9cd895303c"
   ]
  },
  {
   "cell_type": "markdown",
   "metadata": {},
   "source": [
    "https://blog.alookanalytics.com/2017/02/05/how-to-plot-your-own-bikejogging-route-using-python-and-google-maps-api/"
   ]
  },
  {
   "cell_type": "markdown",
   "metadata": {},
   "source": [
    "https://blog.goodaudience.com/google-maps-in-python-part-2-393f96196eaf"
   ]
  },
  {
   "cell_type": "markdown",
   "metadata": {},
   "source": [
    "### Most challenging part of the exercise\n",
    "\n",
    "Understanding how to make use of the various Google Maps APIs and to calculate and plot the optimal route. "
   ]
  },
  {
   "cell_type": "markdown",
   "metadata": {},
   "source": [
    "### What took the longest to do?\n",
    "\n",
    "Implementing code to determine the optimal route."
   ]
  },
  {
   "cell_type": "markdown",
   "metadata": {},
   "source": [
    "### What did you enjoy most?\n",
    "\n",
    "Being able to see the fruits of my labor in performing the task end-to-end."
   ]
  },
  {
   "cell_type": "markdown",
   "metadata": {},
   "source": [
    "### What did you enjoy the least?\n",
    "Struggling to show a map of the route, only to discover that some of the Jupyter notebook settings to show Google Maps are not enabled by default."
   ]
  },
  {
   "cell_type": "code",
   "execution_count": null,
   "metadata": {},
   "outputs": [],
   "source": []
  }
 ],
 "metadata": {
  "kernelspec": {
   "display_name": "Python 3",
   "language": "python",
   "name": "python3"
  },
  "language_info": {
   "codemirror_mode": {
    "name": "ipython",
    "version": 3
   },
   "file_extension": ".py",
   "mimetype": "text/x-python",
   "name": "python",
   "nbconvert_exporter": "python",
   "pygments_lexer": "ipython3",
   "version": "3.5.5"
  }
 },
 "nbformat": 4,
 "nbformat_minor": 2
}
